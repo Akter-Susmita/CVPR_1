{
 "cells": [
  {
   "cell_type": "code",
   "execution_count": 1,
   "id": "19dcae70",
   "metadata": {},
   "outputs": [
    {
     "name": "stdout",
     "output_type": "stream",
     "text": [
      "Categories: ['airplane', 'automobile', 'bird', 'cat', 'deer', 'dog', 'frog', 'horse', 'ship', 'truck']\n",
      "Reading category: 1\n",
      "Reading category: 2\n",
      "Reading category: 3\n",
      "Reading category: 4\n",
      "Reading category: 5\n",
      "Reading category: 6\n",
      "Reading category: 7\n",
      "Reading category: 8\n",
      "Reading category: 9\n",
      "Reading category: 10\n",
      "Complete\n"
     ]
    }
   ],
   "source": [
    "import os\n",
    "import cv2\n",
    "import glob\n",
    "import numpy as np\n",
    "import matplotlib.pyplot as plt\n",
    "\n",
    "train_path = r'C:\\Users\\88018\\Desktop\\hw_1\\CVPR\\CIFAR-10-images-master\\test'\n",
    "test_path = r'C:\\Users\\88018\\Desktop\\hw_1\\CVPR\\CIFAR-10-images-master\\train'\n",
    "\n",
    "X_train = []\n",
    "y_train = []\n",
    "X_test = []\n",
    "y_test = []\n",
    "\n",
    "categories = os.listdir(train_path)\n",
    "print('Categories:',categories)\n",
    "\n",
    "\n",
    "category_count = 0\n",
    "for category in categories:\n",
    "    category_count += 1\n",
    "    print('Reading category:',category_count)\n",
    "    train_category_path = os.path.join(train_path,category)\n",
    "    test_category_path = os.path.join(test_path,category)\n",
    "    train_images = os.listdir(train_category_path)\n",
    "    test_images = os.listdir(test_category_path)\n",
    "    #print(images)\n",
    "    \n",
    "    # Reading Train_Data\n",
    "    for image in train_images:\n",
    "        X_train.append(cv2.imread(os.path.join(train_category_path,image)))\n",
    "        y_train.append(category)\n",
    "        \n",
    "    # Reading Test_Data\n",
    "    for image in test_images:\n",
    "        X_test.append(cv2.imread(os.path.join(test_category_path,image)))\n",
    "        y_test.append(category)\n",
    "        \n",
    "print('Complete')"
   ]
  },
  {
   "cell_type": "code",
   "execution_count": 2,
   "id": "39e0b874",
   "metadata": {},
   "outputs": [
    {
     "name": "stdout",
     "output_type": "stream",
     "text": [
      "Successful\n"
     ]
    }
   ],
   "source": [
    "distances = []\n",
    "completed = 0\n",
    "\n",
    "#Calculating distance\n",
    "\n",
    "for test_image in X_test[:20]:\n",
    "    manhattan_dist = []\n",
    "    for train_image in X_train:\n",
    "        manhattan_dist.append(np.sum(abs(test_image.flatten()-train_image.flatten())))\n",
    "    distances.append(manhattan_dist)\n",
    "    completed += 1\n",
    "    if completed%1000 == 0:\n",
    "        print(f'Completed: {int(completed/100)}%')\n",
    "        \n",
    "print('Successful')"
   ]
  },
  {
   "cell_type": "code",
   "execution_count": 3,
   "id": "885a2cd8",
   "metadata": {},
   "outputs": [
    {
     "data": {
      "image/png": "[encoded data removed]",
      "text/plain": [
       "<Figure size 432x288 with 1 Axes>"
      ]
     },
     "metadata": {
      "needs_background": "light"
     },
     "output_type": "display_data"
    }
   ],
   "source": [
    "accuracies = []\n",
    "k_values = range(1,21)\n",
    "\n",
    "for k in k_values:  \n",
    "    correct = 0\n",
    "    wrong = 0\n",
    "    for i,distance in enumerate(distances):\n",
    "        sorted_dist = np.argsort(distance)\n",
    "        predictions = []\n",
    "        for dist in sorted_dist[:k]:\n",
    "            predictions.append(y_train[dist])\n",
    "        predicted = max(predictions, key=predictions.count)\n",
    "        if predicted == y_test[i]:\n",
    "            correct += 1\n",
    "        else:\n",
    "            wrong += 1\n",
    "            \n",
    "    accuracy = (correct/len(distances))*100\n",
    "    accuracies.append(accuracy) #Accuracy%'\n",
    "    \n",
    "plt.figure()\n",
    "plt.plot(k_values,accuracies,'ro-')\n",
    "plt.xlabel('K values')\n",
    "plt.ylabel('Accuracy in Percentage (%)')\n",
    "plt.xticks(k_values)\n",
    "plt.grid(True)\n",
    "plt.show()\n",
    "    "
   ]
  }
 ],
 "metadata": {
  "kernelspec": {
   "display_name": "Python 3 (ipykernel)",
   "language": "python",
   "name": "python3"
  },
  "language_info": {
   "codemirror_mode": {
    "name": "ipython",
    "version": 3
   },
   "file_extension": ".py",
   "mimetype": "text/x-python",
   "name": "python",
   "nbconvert_exporter": "python",
   "pygments_lexer": "ipython3",
   "version": "3.9.7"
  }
 },
 "nbformat": 4,
 "nbformat_minor": 5
}
